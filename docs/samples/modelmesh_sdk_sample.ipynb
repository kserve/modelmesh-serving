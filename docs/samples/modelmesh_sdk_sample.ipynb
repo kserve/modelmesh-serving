{
 "cells": [
  {
   "attachments": {},
   "cell_type": "markdown",
   "metadata": {},
   "source": [
    "# Sample for ModelMesh Serving using the KServe Python SDK\n",
    "\n",
    "## This notebook shows how to use the KServe SDK to create, update, and delete an InferenceService\n",
    "\n",
    "- This sample assumes ModelMesh Serving was deployed using the [quickstart guide](https://github.com/kserve/modelmesh-serving/blob/main/docs/quickstart.md)."
   ]
  },
  {
   "cell_type": "code",
   "execution_count": 1,
   "metadata": {},
   "outputs": [],
   "source": [
    "from kubernetes import client\n",
    "from kserve import constants\n",
    "from kserve import V1beta1InferenceService\n",
    "from kserve import V1beta1InferenceServiceSpec\n",
    "from kserve import V1beta1PredictorSpec\n",
    "from kserve import V1beta1SKLearnSpec\n",
    "from kserve import V1beta1TFServingSpec\n",
    "from kserve import V1beta1StorageSpec\n",
    "from kserve import KServeClient"
   ]
  },
  {
   "attachments": {},
   "cell_type": "markdown",
   "metadata": {},
   "source": [
    "### The variables being set are `namespace`, `name`, `protocol_version`\n",
    "- The `namespace` definition is where the InferenceService will be deployed to\n",
    "- `name` will be the name of the InferenceService\n",
    "- For ModelMesh, the `v2` protocol must be used since it doesn't support the default `v1` protocol"
   ]
  },
  {
   "cell_type": "code",
   "execution_count": 2,
   "metadata": {},
   "outputs": [],
   "source": [
    "namespace = 'modelmesh-serving'\n",
    "name='mnist-sample'\n",
    "protocol_version='v2'"
   ]
  },
  {
   "attachments": {},
   "cell_type": "markdown",
   "metadata": {},
   "source": [
    "### Define InferenceService specifying ModelMesh as the deploymentMode"
   ]
  },
  {
   "cell_type": "code",
   "execution_count": 3,
   "metadata": {},
   "outputs": [],
   "source": [
    "isvc = V1beta1InferenceService(\n",
    "    api_version=constants.KSERVE_V1BETA1,\n",
    "    kind=constants.KSERVE_KIND,\n",
    "    metadata=client.V1ObjectMeta(\n",
    "        name=name, \n",
    "        namespace=namespace,\n",
    "        annotations={\n",
    "            'serving.kserve.io/deploymentMode': 'ModelMesh'\n",
    "        }\n",
    "    ),\n",
    "    spec=V1beta1InferenceServiceSpec(\n",
    "        predictor=V1beta1PredictorSpec(\n",
    "            sklearn=V1beta1SKLearnSpec(\n",
    "                protocol_version=protocol_version,\n",
    "                storage=V1beta1StorageSpec(\n",
    "                    key='localMinIO',\n",
    "                    path='sklearn/mnist-svm.joblib'\n",
    "                )\n",
    "            )\n",
    "        )\n",
    "    )\n",
    ")"
   ]
  },
  {
   "attachments": {},
   "cell_type": "markdown",
   "metadata": {},
   "source": [
    "### Create InferenceService"
   ]
  },
  {
   "cell_type": "code",
   "execution_count": 4,
   "metadata": {},
   "outputs": [
    {
     "data": {
      "text/plain": [
       "{'apiVersion': 'serving.kserve.io/v1beta1',\n",
       " 'kind': 'InferenceService',\n",
       " 'metadata': {'annotations': {'serving.kserve.io/deploymentMode': 'ModelMesh'},\n",
       "  'creationTimestamp': '2023-07-07T20:24:07Z',\n",
       "  'generation': 1,\n",
       "  'managedFields': [{'apiVersion': 'serving.kserve.io/v1beta1',\n",
       "    'fieldsType': 'FieldsV1',\n",
       "    'fieldsV1': {'f:metadata': {'f:annotations': {'.': {},\n",
       "       'f:serving.kserve.io/deploymentMode': {}}},\n",
       "     'f:spec': {'.': {},\n",
       "      'f:predictor': {'.': {},\n",
       "       'f:sklearn': {'.': {},\n",
       "        'f:name': {},\n",
       "        'f:protocolVersion': {},\n",
       "        'f:storage': {'.': {}, 'f:key': {}, 'f:path': {}}}}}},\n",
       "    'manager': 'OpenAPI-Generator',\n",
       "    'operation': 'Update',\n",
       "    'time': '2023-07-07T20:24:07Z'}],\n",
       "  'name': 'mnist-sample',\n",
       "  'namespace': 'modelmesh-serving',\n",
       "  'resourceVersion': '4508433',\n",
       "  'uid': '1cc3241e-90d3-488e-9d64-c333dda5da44'},\n",
       " 'spec': {'predictor': {'sklearn': {'name': '',\n",
       "    'protocolVersion': 'v2',\n",
       "    'storage': {'key': 'localMinIO', 'path': 'sklearn/mnist-svm.joblib'}}}}}"
      ]
     },
     "execution_count": 4,
     "metadata": {},
     "output_type": "execute_result"
    }
   ],
   "source": [
    "kserve = KServeClient()\n",
    "kserve.create(isvc)"
   ]
  },
  {
   "attachments": {},
   "cell_type": "markdown",
   "metadata": {},
   "source": [
    "### Check InferenceService status after deploying\n",
    "- notice how it is in a `Pending` state"
   ]
  },
  {
   "cell_type": "code",
   "execution_count": 5,
   "metadata": {},
   "outputs": [
    {
     "data": {
      "text/plain": [
       "{'apiVersion': 'serving.kserve.io/v1beta1',\n",
       " 'kind': 'InferenceService',\n",
       " 'metadata': {'annotations': {'serving.kserve.io/deploymentMode': 'ModelMesh'},\n",
       "  'creationTimestamp': '2023-07-07T20:24:07Z',\n",
       "  'generation': 1,\n",
       "  'managedFields': [{'apiVersion': 'serving.kserve.io/v1beta1',\n",
       "    'fieldsType': 'FieldsV1',\n",
       "    'fieldsV1': {'f:metadata': {'f:annotations': {'.': {},\n",
       "       'f:serving.kserve.io/deploymentMode': {}}},\n",
       "     'f:spec': {'.': {},\n",
       "      'f:predictor': {'.': {},\n",
       "       'f:sklearn': {'.': {},\n",
       "        'f:name': {},\n",
       "        'f:protocolVersion': {},\n",
       "        'f:storage': {'.': {}, 'f:key': {}, 'f:path': {}}}}}},\n",
       "    'manager': 'OpenAPI-Generator',\n",
       "    'operation': 'Update',\n",
       "    'time': '2023-07-07T20:24:07Z'},\n",
       "   {'apiVersion': 'serving.kserve.io/v1beta1',\n",
       "    'fieldsType': 'FieldsV1',\n",
       "    'fieldsV1': {'f:status': {'.': {},\n",
       "      'f:conditions': {},\n",
       "      'f:modelStatus': {'.': {},\n",
       "       'f:copies': {'.': {}, 'f:failedCopies': {}},\n",
       "       'f:lastFailureInfo': {'.': {},\n",
       "        'f:message': {},\n",
       "        'f:modelRevisionName': {},\n",
       "        'f:reason': {}},\n",
       "       'f:states': {'.': {},\n",
       "        'f:activeModelState': {},\n",
       "        'f:targetModelState': {}},\n",
       "       'f:transitionStatus': {}}}},\n",
       "    'manager': 'manager',\n",
       "    'operation': 'Update',\n",
       "    'subresource': 'status',\n",
       "    'time': '2023-07-07T20:24:07Z'}],\n",
       "  'name': 'mnist-sample',\n",
       "  'namespace': 'modelmesh-serving',\n",
       "  'resourceVersion': '4508434',\n",
       "  'uid': '1cc3241e-90d3-488e-9d64-c333dda5da44'},\n",
       " 'spec': {'predictor': {'sklearn': {'name': '',\n",
       "    'protocolVersion': 'v2',\n",
       "    'storage': {'key': 'localMinIO', 'path': 'sklearn/mnist-svm.joblib'}}}},\n",
       " 'status': {'conditions': [{'lastTransitionTime': '2023-07-07T20:24:07Z',\n",
       "    'status': 'False',\n",
       "    'type': 'PredictorReady'},\n",
       "   {'lastTransitionTime': '2023-07-07T20:24:07Z',\n",
       "    'status': 'False',\n",
       "    'type': 'Ready'}],\n",
       "  'modelStatus': {'copies': {'failedCopies': 0},\n",
       "   'lastFailureInfo': {'message': 'Waiting for runtime Pod to become available',\n",
       "    'modelRevisionName': 'mnist-sample__isvc-6388459bfd',\n",
       "    'reason': 'RuntimeUnhealthy'},\n",
       "   'states': {'activeModelState': 'Pending', 'targetModelState': ''},\n",
       "   'transitionStatus': ''}}}"
      ]
     },
     "execution_count": 5,
     "metadata": {},
     "output_type": "execute_result"
    }
   ],
   "source": [
    "kserve.get(name, namespace=namespace)"
   ]
  },
  {
   "attachments": {},
   "cell_type": "markdown",
   "metadata": {},
   "source": [
    "### Check InferenceService status once its ready\n",
    "- State should now be `Loaded`"
   ]
  },
  {
   "cell_type": "code",
   "execution_count": 6,
   "metadata": {},
   "outputs": [
    {
     "data": {
      "text/plain": [
       "{'apiVersion': 'serving.kserve.io/v1beta1',\n",
       " 'kind': 'InferenceService',\n",
       " 'metadata': {'annotations': {'serving.kserve.io/deploymentMode': 'ModelMesh'},\n",
       "  'creationTimestamp': '2023-07-07T20:24:07Z',\n",
       "  'generation': 1,\n",
       "  'managedFields': [{'apiVersion': 'serving.kserve.io/v1beta1',\n",
       "    'fieldsType': 'FieldsV1',\n",
       "    'fieldsV1': {'f:metadata': {'f:annotations': {'.': {},\n",
       "       'f:serving.kserve.io/deploymentMode': {}}},\n",
       "     'f:spec': {'.': {},\n",
       "      'f:predictor': {'.': {},\n",
       "       'f:sklearn': {'.': {},\n",
       "        'f:name': {},\n",
       "        'f:protocolVersion': {},\n",
       "        'f:storage': {'.': {}, 'f:key': {}, 'f:path': {}}}}}},\n",
       "    'manager': 'OpenAPI-Generator',\n",
       "    'operation': 'Update',\n",
       "    'time': '2023-07-07T20:24:07Z'},\n",
       "   {'apiVersion': 'serving.kserve.io/v1beta1',\n",
       "    'fieldsType': 'FieldsV1',\n",
       "    'fieldsV1': {'f:status': {'.': {},\n",
       "      'f:components': {'.': {},\n",
       "       'f:predictor': {'.': {},\n",
       "        'f:grpcUrl': {},\n",
       "        'f:restUrl': {},\n",
       "        'f:url': {}}},\n",
       "      'f:conditions': {},\n",
       "      'f:modelStatus': {'.': {},\n",
       "       'f:copies': {'.': {}, 'f:failedCopies': {}, 'f:totalCopies': {}},\n",
       "       'f:states': {'.': {},\n",
       "        'f:activeModelState': {},\n",
       "        'f:targetModelState': {}},\n",
       "       'f:transitionStatus': {}},\n",
       "      'f:url': {}}},\n",
       "    'manager': 'manager',\n",
       "    'operation': 'Update',\n",
       "    'subresource': 'status',\n",
       "    'time': '2023-07-07T20:24:47Z'}],\n",
       "  'name': 'mnist-sample',\n",
       "  'namespace': 'modelmesh-serving',\n",
       "  'resourceVersion': '4508567',\n",
       "  'uid': '1cc3241e-90d3-488e-9d64-c333dda5da44'},\n",
       " 'spec': {'predictor': {'sklearn': {'name': '',\n",
       "    'protocolVersion': 'v2',\n",
       "    'storage': {'key': 'localMinIO', 'path': 'sklearn/mnist-svm.joblib'}}}},\n",
       " 'status': {'components': {'predictor': {'grpcUrl': 'grpc://modelmesh-serving.modelmesh-serving:8033',\n",
       "    'restUrl': 'http://modelmesh-serving.modelmesh-serving:8008',\n",
       "    'url': 'grpc://modelmesh-serving.modelmesh-serving:8033'}},\n",
       "  'conditions': [{'lastTransitionTime': '2023-07-07T20:24:47Z',\n",
       "    'status': 'True',\n",
       "    'type': 'PredictorReady'},\n",
       "   {'lastTransitionTime': '2023-07-07T20:24:47Z',\n",
       "    'status': 'True',\n",
       "    'type': 'Ready'}],\n",
       "  'modelStatus': {'copies': {'failedCopies': 0, 'totalCopies': 1},\n",
       "   'states': {'activeModelState': 'Loaded', 'targetModelState': ''},\n",
       "   'transitionStatus': 'UpToDate'},\n",
       "  'url': 'grpc://modelmesh-serving.modelmesh-serving:8033'}}"
      ]
     },
     "execution_count": 6,
     "metadata": {},
     "output_type": "execute_result"
    }
   ],
   "source": [
    "kserve.wait_isvc_ready(name, namespace=namespace)\n",
    "kserve.get(name, namespace=namespace)"
   ]
  },
  {
   "attachments": {},
   "cell_type": "markdown",
   "metadata": {},
   "source": [
    "### Patch InferenceService and point it to a different model"
   ]
  },
  {
   "cell_type": "code",
   "execution_count": 7,
   "metadata": {},
   "outputs": [],
   "source": [
    "updated_spec=V1beta1InferenceServiceSpec(\n",
    "    predictor=V1beta1PredictorSpec(\n",
    "        tensorflow=V1beta1TFServingSpec(\n",
    "            protocol_version=protocol_version,\n",
    "            storage=V1beta1StorageSpec(\n",
    "                key='localMinIO',\n",
    "                path='tensorflow/mnist.savedmodel'\n",
    "                )\n",
    "            )\n",
    "        )\n",
    "    )"
   ]
  },
  {
   "cell_type": "code",
   "execution_count": 8,
   "metadata": {},
   "outputs": [],
   "source": [
    "updated_isvc = V1beta1InferenceService(api_version= constants.KSERVE_V1BETA1,\n",
    "                          kind=constants.KSERVE_KIND,\n",
    "                          metadata=client.V1ObjectMeta(name=name, namespace=namespace),\n",
    "                          spec=updated_spec)"
   ]
  },
  {
   "cell_type": "code",
   "execution_count": 9,
   "metadata": {},
   "outputs": [
    {
     "data": {
      "text/plain": [
       "{'apiVersion': 'serving.kserve.io/v1beta1',\n",
       " 'kind': 'InferenceService',\n",
       " 'metadata': {'creationTimestamp': '2023-07-07T20:24:07Z',\n",
       "  'generation': 2,\n",
       "  'managedFields': [{'apiVersion': 'serving.kserve.io/v1beta1',\n",
       "    'fieldsType': 'FieldsV1',\n",
       "    'fieldsV1': {'f:status': {'.': {},\n",
       "      'f:components': {'.': {},\n",
       "       'f:predictor': {'.': {},\n",
       "        'f:grpcUrl': {},\n",
       "        'f:restUrl': {},\n",
       "        'f:url': {}}},\n",
       "      'f:conditions': {},\n",
       "      'f:modelStatus': {'.': {},\n",
       "       'f:copies': {'.': {}, 'f:failedCopies': {}, 'f:totalCopies': {}},\n",
       "       'f:states': {'.': {},\n",
       "        'f:activeModelState': {},\n",
       "        'f:targetModelState': {}},\n",
       "       'f:transitionStatus': {}},\n",
       "      'f:url': {}}},\n",
       "    'manager': 'manager',\n",
       "    'operation': 'Update',\n",
       "    'subresource': 'status',\n",
       "    'time': '2023-07-07T20:24:47Z'},\n",
       "   {'apiVersion': 'serving.kserve.io/v1beta1',\n",
       "    'fieldsType': 'FieldsV1',\n",
       "    'fieldsV1': {'f:spec': {'.': {},\n",
       "      'f:predictor': {'.': {},\n",
       "       'f:tensorflow': {'.': {},\n",
       "        'f:name': {},\n",
       "        'f:protocolVersion': {},\n",
       "        'f:storage': {'.': {}, 'f:key': {}, 'f:path': {}}}}}},\n",
       "    'manager': 'OpenAPI-Generator',\n",
       "    'operation': 'Update',\n",
       "    'time': '2023-07-07T20:26:00Z'}],\n",
       "  'name': 'mnist-sample',\n",
       "  'namespace': 'modelmesh-serving',\n",
       "  'resourceVersion': '4508693',\n",
       "  'uid': '1cc3241e-90d3-488e-9d64-c333dda5da44'},\n",
       " 'spec': {'predictor': {'tensorflow': {'name': '',\n",
       "    'protocolVersion': 'v2',\n",
       "    'storage': {'key': 'localMinIO', 'path': 'tensorflow/mnist.savedmodel'}}}},\n",
       " 'status': {'components': {'predictor': {'grpcUrl': 'grpc://modelmesh-serving.modelmesh-serving:8033',\n",
       "    'restUrl': 'http://modelmesh-serving.modelmesh-serving:8008',\n",
       "    'url': 'grpc://modelmesh-serving.modelmesh-serving:8033'}},\n",
       "  'conditions': [{'lastTransitionTime': '2023-07-07T20:24:47Z',\n",
       "    'status': 'True',\n",
       "    'type': 'PredictorReady'},\n",
       "   {'lastTransitionTime': '2023-07-07T20:24:47Z',\n",
       "    'status': 'True',\n",
       "    'type': 'Ready'}],\n",
       "  'modelStatus': {'copies': {'failedCopies': 0, 'totalCopies': 1},\n",
       "   'states': {'activeModelState': 'Loaded', 'targetModelState': ''},\n",
       "   'transitionStatus': 'UpToDate'},\n",
       "  'url': 'grpc://modelmesh-serving.modelmesh-serving:8033'}}"
      ]
     },
     "execution_count": 9,
     "metadata": {},
     "output_type": "execute_result"
    }
   ],
   "source": [
    "kserve.replace(name, updated_isvc, namespace=namespace)"
   ]
  },
  {
   "cell_type": "code",
   "execution_count": 10,
   "metadata": {},
   "outputs": [
    {
     "data": {
      "text/plain": [
       "{'apiVersion': 'serving.kserve.io/v1beta1',\n",
       " 'kind': 'InferenceService',\n",
       " 'metadata': {'creationTimestamp': '2023-07-07T20:24:07Z',\n",
       "  'generation': 2,\n",
       "  'managedFields': [{'apiVersion': 'serving.kserve.io/v1beta1',\n",
       "    'fieldsType': 'FieldsV1',\n",
       "    'fieldsV1': {'f:status': {'.': {},\n",
       "      'f:components': {'.': {},\n",
       "       'f:predictor': {'.': {},\n",
       "        'f:grpcUrl': {},\n",
       "        'f:restUrl': {},\n",
       "        'f:url': {}}},\n",
       "      'f:conditions': {},\n",
       "      'f:modelStatus': {'.': {},\n",
       "       'f:copies': {'.': {}, 'f:failedCopies': {}, 'f:totalCopies': {}},\n",
       "       'f:states': {'.': {},\n",
       "        'f:activeModelState': {},\n",
       "        'f:targetModelState': {}},\n",
       "       'f:transitionStatus': {}},\n",
       "      'f:url': {}}},\n",
       "    'manager': 'manager',\n",
       "    'operation': 'Update',\n",
       "    'subresource': 'status',\n",
       "    'time': '2023-07-07T20:24:47Z'},\n",
       "   {'apiVersion': 'serving.kserve.io/v1beta1',\n",
       "    'fieldsType': 'FieldsV1',\n",
       "    'fieldsV1': {'f:spec': {'.': {},\n",
       "      'f:predictor': {'.': {},\n",
       "       'f:tensorflow': {'.': {},\n",
       "        'f:name': {},\n",
       "        'f:protocolVersion': {},\n",
       "        'f:storage': {'.': {}, 'f:key': {}, 'f:path': {}}}}}},\n",
       "    'manager': 'OpenAPI-Generator',\n",
       "    'operation': 'Update',\n",
       "    'time': '2023-07-07T20:26:00Z'}],\n",
       "  'name': 'mnist-sample',\n",
       "  'namespace': 'modelmesh-serving',\n",
       "  'resourceVersion': '4508693',\n",
       "  'uid': '1cc3241e-90d3-488e-9d64-c333dda5da44'},\n",
       " 'spec': {'predictor': {'tensorflow': {'name': '',\n",
       "    'protocolVersion': 'v2',\n",
       "    'storage': {'key': 'localMinIO', 'path': 'tensorflow/mnist.savedmodel'}}}},\n",
       " 'status': {'components': {'predictor': {'grpcUrl': 'grpc://modelmesh-serving.modelmesh-serving:8033',\n",
       "    'restUrl': 'http://modelmesh-serving.modelmesh-serving:8008',\n",
       "    'url': 'grpc://modelmesh-serving.modelmesh-serving:8033'}},\n",
       "  'conditions': [{'lastTransitionTime': '2023-07-07T20:24:47Z',\n",
       "    'status': 'True',\n",
       "    'type': 'PredictorReady'},\n",
       "   {'lastTransitionTime': '2023-07-07T20:24:47Z',\n",
       "    'status': 'True',\n",
       "    'type': 'Ready'}],\n",
       "  'modelStatus': {'copies': {'failedCopies': 0, 'totalCopies': 1},\n",
       "   'states': {'activeModelState': 'Loaded', 'targetModelState': ''},\n",
       "   'transitionStatus': 'UpToDate'},\n",
       "  'url': 'grpc://modelmesh-serving.modelmesh-serving:8033'}}"
      ]
     },
     "execution_count": 10,
     "metadata": {},
     "output_type": "execute_result"
    }
   ],
   "source": [
    "kserve.wait_isvc_ready(name, namespace=namespace)\n",
    "\n",
    "kserve.get(name, namespace=namespace)"
   ]
  },
  {
   "attachments": {},
   "cell_type": "markdown",
   "metadata": {},
   "source": [
    "### Delete InferenceService"
   ]
  },
  {
   "cell_type": "code",
   "execution_count": 11,
   "metadata": {},
   "outputs": [
    {
     "data": {
      "text/plain": [
       "{'kind': 'Status',\n",
       " 'apiVersion': 'v1',\n",
       " 'metadata': {},\n",
       " 'status': 'Success',\n",
       " 'details': {'name': 'mnist-sample',\n",
       "  'group': 'serving.kserve.io',\n",
       "  'kind': 'inferenceservices',\n",
       "  'uid': '1cc3241e-90d3-488e-9d64-c333dda5da44'}}"
      ]
     },
     "execution_count": 11,
     "metadata": {},
     "output_type": "execute_result"
    }
   ],
   "source": [
    "kserve.delete(name, namespace=namespace)"
   ]
  }
 ],
 "metadata": {
  "kernelspec": {
   "display_name": "Python 3",
   "language": "python",
   "name": "python3"
  },
  "language_info": {
   "codemirror_mode": {
    "name": "ipython",
    "version": 3
   },
   "file_extension": ".py",
   "mimetype": "text/x-python",
   "name": "python",
   "nbconvert_exporter": "python",
   "pygments_lexer": "ipython3",
   "version": "3.9.16"
  },
  "orig_nbformat": 4
 },
 "nbformat": 4,
 "nbformat_minor": 2
}
