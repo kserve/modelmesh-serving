{
 "cells": [
  {
   "attachments": {},
   "cell_type": "markdown",
   "metadata": {},
   "source": [
    "# Sample on how to use modelmesh-serving with SDK v1beta1 python\n",
    "\n",
    "## This notebook shows how to use the python sdk with ModelMesh to create an InferenceService"
   ]
  },
  {
   "cell_type": "code",
   "execution_count": 1,
   "metadata": {},
   "outputs": [],
   "source": [
    "from kubernetes import client\n",
    "from kserve import constants\n",
    "from kserve import V1beta1InferenceService\n",
    "from kserve import V1beta1InferenceServiceSpec\n",
    "from kserve import V1beta1PredictorSpec\n",
    "from kserve import V1beta1SKLearnSpec\n",
    "from kserve import V1beta1TFServingSpec\n",
    "from kserve import V1beta1StorageSpec\n",
    "from kserve import KServeClient"
   ]
  },
  {
   "attachments": {},
   "cell_type": "markdown",
   "metadata": {},
   "source": [
    "### Define the global variables to be used in InferenceService creation"
   ]
  },
  {
   "cell_type": "code",
   "execution_count": 2,
   "metadata": {},
   "outputs": [],
   "source": [
    "namespace = 'modelmesh-serving'\n",
    "name='msnist-sample'\n",
    "protocol_version='v2'\n",
    "api_version = constants.KSERVE_V1BETA1"
   ]
  },
  {
   "attachments": {},
   "cell_type": "markdown",
   "metadata": {},
   "source": [
    "### Define InferenceService with the proper ModelMesh annotation"
   ]
  },
  {
   "cell_type": "code",
   "execution_count": 3,
   "metadata": {},
   "outputs": [],
   "source": [
    "isvc = V1beta1InferenceService(\n",
    "    api_version=constants.KSERVE_V1BETA1,\n",
    "    kind=constants.KSERVE_KIND,\n",
    "    metadata=client.V1ObjectMeta(\n",
    "        name=name, \n",
    "        namespace=namespace,\n",
    "        annotations={\n",
    "            'serving.kserve.io/deploymentMode': 'ModelMesh'\n",
    "        }\n",
    "    ),\n",
    "    spec=V1beta1InferenceServiceSpec(\n",
    "        predictor=V1beta1PredictorSpec(\n",
    "            sklearn=V1beta1SKLearnSpec(\n",
    "                protocol_version=protocol_version,\n",
    "                storage=V1beta1StorageSpec(\n",
    "                    key='localMinIO',\n",
    "                    path='sklearn/mnist-svm.joblib'\n",
    "                )\n",
    "            )\n",
    "        )\n",
    "    )\n",
    ")"
   ]
  },
  {
   "attachments": {},
   "cell_type": "markdown",
   "metadata": {},
   "source": [
    "### Create InferenceService"
   ]
  },
  {
   "cell_type": "code",
   "execution_count": 4,
   "metadata": {},
   "outputs": [
    {
     "data": {
      "text/plain": [
       "{'apiVersion': 'serving.kserve.io/v1beta1',\n",
       " 'kind': 'InferenceService',\n",
       " 'metadata': {'annotations': {'serving.kserve.io/deploymentMode': 'ModelMesh'},\n",
       "  'creationTimestamp': '2023-06-05T17:48:48Z',\n",
       "  'generation': 1,\n",
       "  'managedFields': [{'apiVersion': 'serving.kserve.io/v1beta1',\n",
       "    'fieldsType': 'FieldsV1',\n",
       "    'fieldsV1': {'f:metadata': {'f:annotations': {'.': {},\n",
       "       'f:serving.kserve.io/deploymentMode': {}}},\n",
       "     'f:spec': {'.': {},\n",
       "      'f:predictor': {'.': {},\n",
       "       'f:sklearn': {'.': {},\n",
       "        'f:name': {},\n",
       "        'f:protocolVersion': {},\n",
       "        'f:storage': {'.': {}, 'f:key': {}, 'f:path': {}}}}}},\n",
       "    'manager': 'OpenAPI-Generator',\n",
       "    'operation': 'Update',\n",
       "    'time': '2023-06-05T17:48:48Z'}],\n",
       "  'name': 'msnist-sample',\n",
       "  'namespace': 'modelmesh-serving',\n",
       "  'resourceVersion': '3881018',\n",
       "  'uid': '62b375b1-fd66-4783-b391-d4c3f8e8e6d4'},\n",
       " 'spec': {'predictor': {'sklearn': {'name': '',\n",
       "    'protocolVersion': 'v2',\n",
       "    'storage': {'key': 'localMinIO', 'path': 'sklearn/mnist-svm.joblib'}}}}}"
      ]
     },
     "execution_count": 4,
     "metadata": {},
     "output_type": "execute_result"
    }
   ],
   "source": [
    "kserve = KServeClient()\n",
    "kserve.create(isvc)"
   ]
  },
  {
   "attachments": {},
   "cell_type": "markdown",
   "metadata": {},
   "source": [
    "### Check to see status of InferenceService"
   ]
  },
  {
   "cell_type": "code",
   "execution_count": 5,
   "metadata": {},
   "outputs": [],
   "source": [
    "kserve.wait_isvc_ready(name, namespace=namespace)"
   ]
  },
  {
   "cell_type": "code",
   "execution_count": 6,
   "metadata": {},
   "outputs": [],
   "source": [
    "is_ready = kserve.is_isvc_ready(name, namespace=namespace)"
   ]
  },
  {
   "cell_type": "code",
   "execution_count": 7,
   "metadata": {},
   "outputs": [
    {
     "name": "stdout",
     "output_type": "stream",
     "text": [
      "True\n"
     ]
    }
   ],
   "source": [
    "print(is_ready)"
   ]
  },
  {
   "attachments": {},
   "cell_type": "markdown",
   "metadata": {},
   "source": [
    "### Makes an inference using the model"
   ]
  },
  {
   "attachments": {},
   "cell_type": "markdown",
   "metadata": {},
   "source": [
    "### Updates the InferenceService by changing it to use a completely different model (tensorflow/mnist)"
   ]
  },
  {
   "cell_type": "code",
   "execution_count": 8,
   "metadata": {},
   "outputs": [],
   "source": [
    "updated_spec=V1beta1InferenceServiceSpec(\n",
    "    predictor=V1beta1PredictorSpec(\n",
    "        tensorflow=V1beta1TFServingSpec(\n",
    "            protocol_version=protocol_version,\n",
    "            storage=V1beta1StorageSpec(\n",
    "                key='localMinIO',\n",
    "                path='gs://kfserving-examples/models/tensorflow/flowers-2'\n",
    "                )\n",
    "            )\n",
    "        )\n",
    "    )"
   ]
  },
  {
   "cell_type": "code",
   "execution_count": 9,
   "metadata": {},
   "outputs": [],
   "source": [
    "updated_isvc = V1beta1InferenceService(api_version= constants.KSERVE_V1BETA1,\n",
    "                          kind=constants.KSERVE_KIND,\n",
    "                          metadata=client.V1ObjectMeta(name=name, namespace=namespace),\n",
    "                          spec=updated_spec)"
   ]
  },
  {
   "cell_type": "code",
   "execution_count": 10,
   "metadata": {},
   "outputs": [
    {
     "data": {
      "text/plain": [
       "{'apiVersion': 'serving.kserve.io/v1beta1',\n",
       " 'kind': 'InferenceService',\n",
       " 'metadata': {'annotations': {'serving.kserve.io/deploymentMode': 'ModelMesh'},\n",
       "  'creationTimestamp': '2023-06-05T17:48:48Z',\n",
       "  'generation': 2,\n",
       "  'managedFields': [{'apiVersion': 'serving.kserve.io/v1beta1',\n",
       "    'fieldsType': 'FieldsV1',\n",
       "    'fieldsV1': {'f:status': {'.': {},\n",
       "      'f:components': {'.': {},\n",
       "       'f:predictor': {'.': {},\n",
       "        'f:grpcUrl': {},\n",
       "        'f:restUrl': {},\n",
       "        'f:url': {}}},\n",
       "      'f:conditions': {},\n",
       "      'f:modelStatus': {'.': {},\n",
       "       'f:copies': {'.': {}, 'f:failedCopies': {}, 'f:totalCopies': {}},\n",
       "       'f:states': {'.': {},\n",
       "        'f:activeModelState': {},\n",
       "        'f:targetModelState': {}},\n",
       "       'f:transitionStatus': {}},\n",
       "      'f:url': {}}},\n",
       "    'manager': 'manager',\n",
       "    'operation': 'Update',\n",
       "    'subresource': 'status',\n",
       "    'time': '2023-06-05T17:49:03Z'},\n",
       "   {'apiVersion': 'serving.kserve.io/v1beta1',\n",
       "    'fieldsType': 'FieldsV1',\n",
       "    'fieldsV1': {'f:metadata': {'f:annotations': {'.': {},\n",
       "       'f:serving.kserve.io/deploymentMode': {}}},\n",
       "     'f:spec': {'.': {},\n",
       "      'f:predictor': {'.': {},\n",
       "       'f:sklearn': {'.': {},\n",
       "        'f:name': {},\n",
       "        'f:protocolVersion': {},\n",
       "        'f:storage': {'.': {}, 'f:key': {}, 'f:path': {}}},\n",
       "       'f:tensorflow': {'.': {},\n",
       "        'f:name': {},\n",
       "        'f:protocolVersion': {},\n",
       "        'f:storage': {'.': {}, 'f:key': {}, 'f:path': {}}}}}},\n",
       "    'manager': 'OpenAPI-Generator',\n",
       "    'operation': 'Update',\n",
       "    'time': '2023-06-05T17:49:48Z'}],\n",
       "  'name': 'msnist-sample',\n",
       "  'namespace': 'modelmesh-serving',\n",
       "  'resourceVersion': '3881193',\n",
       "  'uid': '62b375b1-fd66-4783-b391-d4c3f8e8e6d4'},\n",
       " 'spec': {'predictor': {'sklearn': {'name': '',\n",
       "    'protocolVersion': 'v2',\n",
       "    'storage': {'key': 'localMinIO', 'path': 'sklearn/mnist-svm.joblib'}},\n",
       "   'tensorflow': {'name': '',\n",
       "    'protocolVersion': 'v2',\n",
       "    'storage': {'key': 'localMinIO',\n",
       "     'path': 'gs://kfserving-examples/models/tensorflow/flowers-2'}}}},\n",
       " 'status': {'components': {'predictor': {'grpcUrl': 'grpc://modelmesh-serving.modelmesh-serving:8033',\n",
       "    'restUrl': 'http://modelmesh-serving.modelmesh-serving:8008',\n",
       "    'url': 'grpc://modelmesh-serving.modelmesh-serving:8033'}},\n",
       "  'conditions': [{'lastTransitionTime': '2023-06-05T17:49:03Z',\n",
       "    'status': 'True',\n",
       "    'type': 'PredictorReady'},\n",
       "   {'lastTransitionTime': '2023-06-05T17:49:03Z',\n",
       "    'status': 'True',\n",
       "    'type': 'Ready'}],\n",
       "  'modelStatus': {'copies': {'failedCopies': 0, 'totalCopies': 1},\n",
       "   'states': {'activeModelState': 'Loaded', 'targetModelState': ''},\n",
       "   'transitionStatus': 'UpToDate'},\n",
       "  'url': 'grpc://modelmesh-serving.modelmesh-serving:8033'}}"
      ]
     },
     "execution_count": 10,
     "metadata": {},
     "output_type": "execute_result"
    }
   ],
   "source": [
    "kserve.patch(name, updated_isvc)"
   ]
  },
  {
   "cell_type": "code",
   "execution_count": 11,
   "metadata": {},
   "outputs": [],
   "source": [
    "kserve.get(name, namespace=namespace, watch=True, timeout_seconds=120)"
   ]
  },
  {
   "attachments": {},
   "cell_type": "markdown",
   "metadata": {},
   "source": [
    "### Delete the InferenceService"
   ]
  },
  {
   "cell_type": "code",
   "execution_count": 12,
   "metadata": {},
   "outputs": [
    {
     "data": {
      "text/plain": [
       "{'kind': 'Status',\n",
       " 'apiVersion': 'v1',\n",
       " 'metadata': {},\n",
       " 'status': 'Success',\n",
       " 'details': {'name': 'msnist-sample',\n",
       "  'group': 'serving.kserve.io',\n",
       "  'kind': 'inferenceservices',\n",
       "  'uid': '62b375b1-fd66-4783-b391-d4c3f8e8e6d4'}}"
      ]
     },
     "execution_count": 12,
     "metadata": {},
     "output_type": "execute_result"
    }
   ],
   "source": [
    "kserve.delete(name, namespace=namespace)"
   ]
  },
  {
   "cell_type": "code",
   "execution_count": null,
   "metadata": {},
   "outputs": [],
   "source": []
  }
 ],
 "metadata": {
  "kernelspec": {
   "display_name": "Python 3",
   "language": "python",
   "name": "python3"
  },
  "language_info": {
   "codemirror_mode": {
    "name": "ipython",
    "version": 3
   },
   "file_extension": ".py",
   "mimetype": "text/x-python",
   "name": "python",
   "nbconvert_exporter": "python",
   "pygments_lexer": "ipython3",
   "version": "3.9.16"
  },
  "orig_nbformat": 4
 },
 "nbformat": 4,
 "nbformat_minor": 2
}
